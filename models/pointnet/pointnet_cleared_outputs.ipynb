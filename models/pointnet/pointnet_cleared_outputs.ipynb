{
  "nbformat": 4,
  "nbformat_minor": 0,
  "metadata": {
    "colab": {
      "name": "pointnet_cleared_outputs.ipynb",
      "provenance": [],
      "collapsed_sections": []
    },
    "kernelspec": {
      "name": "python2",
      "display_name": "Python 2"
    },
    "accelerator": "GPU"
  },
  "cells": [
    {
      "cell_type": "code",
      "metadata": {
        "id": "_G7S0ixFSGvT",
        "outputId": "e9de9b7a-efe6-42f9-d9fa-7ffcd3a142e5",
        "colab": {
          "base_uri": "https://localhost:8080/",
          "height": 35
        }
      },
      "source": [
        "!python -V"
      ],
      "execution_count": null,
      "outputs": [
        {
          "output_type": "stream",
          "text": [
            "Python 2.7.17\n"
          ],
          "name": "stdout"
        }
      ]
    },
    {
      "cell_type": "code",
      "metadata": {
        "id": "ksTodPqnS-ee",
        "outputId": "9caca69e-93b5-4fef-eb12-1bcca8565d24",
        "colab": {
          "base_uri": "https://localhost:8080/",
          "height": 35
        }
      },
      "source": [
        "import tensorflow as tf\n",
        "tf.__version__"
      ],
      "execution_count": null,
      "outputs": [
        {
          "output_type": "execute_result",
          "data": {
            "application/vnd.google.colaboratory.intrinsic+json": {
              "type": "string"
            },
            "text/plain": [
              "'1.13.1'"
            ]
          },
          "metadata": {
            "tags": []
          },
          "execution_count": 1
        }
      ]
    },
    {
      "cell_type": "code",
      "metadata": {
        "id": "GTCweEE8TB-H",
        "outputId": "c8baf7dd-ac5f-42fe-b62a-c99a0534206b",
        "colab": {
          "base_uri": "https://localhost:8080/",
          "height": 52
        }
      },
      "source": [
        "!pip uninstall tensorflow -y"
      ],
      "execution_count": null,
      "outputs": [
        {
          "output_type": "stream",
          "text": [
            "Uninstalling tensorflow-1.1.0:\n",
            "  Successfully uninstalled tensorflow-1.1.0\n"
          ],
          "name": "stdout"
        }
      ]
    },
    {
      "cell_type": "code",
      "metadata": {
        "id": "OGmhhRYpxfIU"
      },
      "source": [
        "!pip install tensorflow-gpu==1.13.1"
      ],
      "execution_count": null,
      "outputs": []
    },
    {
      "cell_type": "code",
      "metadata": {
        "id": "g6pC1KazSC_2",
        "outputId": "76bbb0b9-7852-43b7-b3a9-e353203ecf29",
        "colab": {
          "base_uri": "https://localhost:8080/",
          "height": 52
        }
      },
      "source": [
        "# !git clone https://github.com/charlesq34/pointnet.git\n",
        "%cd 'drive/My Drive/Research/Pointnet/pointnet'\n",
        "!pwd"
      ],
      "execution_count": null,
      "outputs": [
        {
          "output_type": "stream",
          "text": [
            "/content/drive/My Drive/Research/Pointnet/pointnet\n",
            "/content/drive/My Drive/Research/Pointnet/pointnet\n"
          ],
          "name": "stdout"
        }
      ]
    },
    {
      "cell_type": "markdown",
      "metadata": {
        "id": "opP4wdC4sG75"
      },
      "source": [
        "### Classification\n"
      ]
    },
    {
      "cell_type": "markdown",
      "metadata": {
        "id": "hSp5-uSjsZ12"
      },
      "source": [
        "#### Training"
      ]
    },
    {
      "cell_type": "code",
      "metadata": {
        "id": "9CUIYyoOxknN"
      },
      "source": [
        "!python train.py --gpu=0"
      ],
      "execution_count": null,
      "outputs": []
    },
    {
      "cell_type": "markdown",
      "metadata": {
        "id": "2nojNQl9sj78"
      },
      "source": [
        "#### Evaluation"
      ]
    },
    {
      "cell_type": "code",
      "metadata": {
        "id": "ZOqhpky-xm81"
      },
      "source": [
        "!python evaluate.py --gpu=0 --visu"
      ],
      "execution_count": null,
      "outputs": []
    },
    {
      "cell_type": "markdown",
      "metadata": {
        "id": "ztj0MtWbsvLn"
      },
      "source": [
        "### Part Segmentation\n"
      ]
    },
    {
      "cell_type": "code",
      "metadata": {
        "id": "y93pOIEDyQr3",
        "outputId": "77f3623d-6a35-4e9a-8068-4567dbce8cb8",
        "colab": {
          "base_uri": "https://localhost:8080/",
          "height": 35
        }
      },
      "source": [
        "%cd part_seg"
      ],
      "execution_count": null,
      "outputs": [
        {
          "output_type": "stream",
          "text": [
            "/content/drive/My Drive/Research/Pointnet/pointnet/part_seg\n"
          ],
          "name": "stdout"
        }
      ]
    },
    {
      "cell_type": "code",
      "metadata": {
        "id": "cHmRB5_UxqlF"
      },
      "source": [
        "!sh download_data.sh"
      ],
      "execution_count": null,
      "outputs": []
    },
    {
      "cell_type": "markdown",
      "metadata": {
        "id": "2s80sx5rtEyV"
      },
      "source": [
        "#### Training"
      ]
    },
    {
      "cell_type": "code",
      "metadata": {
        "id": "4cn8sNu7xtCP"
      },
      "source": [
        "!python train.py --gpu=0"
      ],
      "execution_count": null,
      "outputs": []
    },
    {
      "cell_type": "markdown",
      "metadata": {
        "id": "fS4Obh_KtM3F"
      },
      "source": [
        "#### Testing"
      ]
    },
    {
      "cell_type": "code",
      "metadata": {
        "id": "jCRjxksVxvQ1"
      },
      "source": [
        "!python test.py"
      ],
      "execution_count": null,
      "outputs": []
    }
  ]
}