{
  "nbformat": 4,
  "nbformat_minor": 0,
  "metadata": {
    "colab": {
      "name": "pointnet2_with_cleared_output.ipynb",
      "provenance": [],
      "collapsed_sections": []
    },
    "kernelspec": {
      "name": "python3",
      "display_name": "Python 3"
    },
    "accelerator": "GPU"
  },
  "cells": [
    {
      "cell_type": "markdown",
      "metadata": {
        "id": "TCJv__Txsilo"
      },
      "source": [
        "### Installing modules\n"
      ]
    },
    {
      "cell_type": "code",
      "metadata": {
        "id": "ZXI4EXGHc0XS"
      },
      "source": [
        "!pip uninstall torch torchvision -y -y"
      ],
      "execution_count": 1,
      "outputs": []
    },
    {
      "cell_type": "code",
      "metadata": {
        "id": "XFbFghxadBwd"
      },
      "source": [
        "!pip install torch==1.2.0 torchvision==0.4.0\n",
        "!pip install pillow==6.2.1"
      ],
      "execution_count": 1,
      "outputs": []
    },
    {
      "cell_type": "code",
      "metadata": {
        "id": "ugagsvsIdJGH"
      },
      "source": [
        "import torch\n",
        "import torchvision\n",
        "torch.__version__, torchvision.__version__"
      ],
      "execution_count": 2,
      "outputs": []
    },
    {
      "cell_type": "markdown",
      "metadata": {
        "id": "jWkpsZZTs0yX"
      },
      "source": [
        "### Downloading github repo and dataset"
      ]
    },
    {
      "cell_type": "code",
      "metadata": {
        "id": "p13iglTOe6De"
      },
      "source": [
        "# !git clone https://github.com/yanx27/Pointnet_Pointnet2_pytorch.git"
      ],
      "execution_count": 3,
      "outputs": []
    },
    {
      "cell_type": "code",
      "metadata": {
        "id": "z2e0NT48e6Vn"
      },
      "source": [
        "%cd /content/drive/My Drive/Research/pointnet_pointet2_pytorch"
      ],
      "execution_count": 4,
      "outputs": []
    },
    {
      "cell_type": "code",
      "metadata": {
        "id": "XwMw5HSSe6K0"
      },
      "source": [
        "%cd /content/drive/My Drive/Research/pointnet_pointet2_pytorch/Pointnet_Pointnet2_pytorch/"
      ],
      "execution_count": 5,
      "outputs": []
    },
    {
      "cell_type": "code",
      "metadata": {
        "id": "vO2K2KXvdJNA"
      },
      "source": [
        "# Move the uncompressed data folder to data/shapenetcore_partanno_segmentation_benchmark_v0_normal\n",
        "# !wget --no-check-certificate https://shapenet.cs.stanford.edu/media/shapenetcore_partanno_segmentation_benchmark_v0_normal.zip"
      ],
      "execution_count": 7,
      "outputs": []
    },
    {
      "cell_type": "code",
      "metadata": {
        "id": "8JxH2zV4dJKS"
      },
      "source": [
        "# !unzip shapenetcore_partanno_segmentation_benchmark_v0_normal.zip"
      ],
      "execution_count": 8,
      "outputs": []
    },
    {
      "cell_type": "code",
      "metadata": {
        "id": "0uWV9UErdI6i"
      },
      "source": [
        "# !mv ./shapenetcore_partanno_segmentation_benchmark_v0_normal data/"
      ],
      "execution_count": null,
      "outputs": []
    },
    {
      "cell_type": "markdown",
      "metadata": {
        "id": "3g17ul_vtBsD"
      },
      "source": [
        "### Running on shapenet dataset\n"
      ]
    },
    {
      "cell_type": "code",
      "metadata": {
        "id": "HST6o6wipndG"
      },
      "source": [
        "# training\n",
        "!python train_partseg.py --model pointnet2_part_seg_msg --log_dir pointnet2_part_seg_msg"
      ],
      "execution_count": 9,
      "outputs": []
    },
    {
      "cell_type": "code",
      "metadata": {
        "id": "N46wgjkq89vS"
      },
      "source": [
        "# testing\n",
        "!python test_partseg.py --log_dir pointnet2_part_seg_msg"
      ],
      "execution_count": 10,
      "outputs": []
    },
    {
      "cell_type": "markdown",
      "metadata": {
        "id": "dDTUC5rktKaN"
      },
      "source": [
        "### Running on plant dataset"
      ]
    },
    {
      "cell_type": "code",
      "metadata": {
        "id": "Dv2JqaTe89_F"
      },
      "source": [
        "# training\n",
        "!python train_partseg_plant.py --model pointnet2_part_seg_msg --batch_size 1 --log_dir pointnet2_part_seg_msg --npoint 100000"
      ],
      "execution_count": 11,
      "outputs": []
    },
    {
      "cell_type": "code",
      "metadata": {
        "id": "UtsQh2Eh9i9M"
      },
      "source": [
        "# testing\n",
        "!python test_partseg_plant.py --batch_size 1 --num_point 100000 --log_dir pointnet2_part_seg_msg"
      ],
      "execution_count": 12,
      "outputs": []
    },
    {
      "cell_type": "code",
      "metadata": {
        "id": "2L4NlbLh89hO"
      },
      "source": [
        ""
      ],
      "execution_count": null,
      "outputs": []
    },
    {
      "cell_type": "code",
      "metadata": {
        "id": "cenDH3258_K9"
      },
      "source": [
        ""
      ],
      "execution_count": null,
      "outputs": []
    },
    {
      "cell_type": "code",
      "metadata": {
        "id": "pZ2rwecl8_c0"
      },
      "source": [
        ""
      ],
      "execution_count": null,
      "outputs": []
    },
    {
      "cell_type": "code",
      "metadata": {
        "id": "krswduJl8-99"
      },
      "source": [
        ""
      ],
      "execution_count": null,
      "outputs": []
    }
  ]
}